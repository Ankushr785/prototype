{
 "cells": [
  {
   "cell_type": "code",
   "execution_count": 1,
   "metadata": {},
   "outputs": [
    {
     "name": "stderr",
     "output_type": "stream",
     "text": [
      "/home/fractaluser/anaconda3/lib/python3.6/site-packages/sklearn/cross_validation.py:41: DeprecationWarning: This module was deprecated in version 0.18 in favor of the model_selection module into which all the refactored classes and functions are moved. Also note that the interface of the new CV iterators are different from that of this module. This module will be removed in 0.20.\n",
      "  \"This module will be removed in 0.20.\", DeprecationWarning)\n"
     ]
    }
   ],
   "source": [
    "import pandas as pd\n",
    "import numpy as np\n",
    "import matplotlib.pyplot as plt\n",
    "import seaborn as sns\n",
    "import os\n",
    "os.chdir('/home/fractaluser/Downloads/driver_n_rollout')\n",
    "pd.set_option('display.max_columns', None)\n",
    "sns.set(font_scale = 1, style = 'whitegrid')\n",
    "from sklearn.metrics import mean_squared_error\n",
    "import random, time\n",
    "from pandas import Interval\n",
    "from sklearn.preprocessing import LabelEncoder\n",
    "from sklearn.cluster import KMeans\n",
    "from sklearn.metrics import silhouette_score\n",
    "from sklearn.model_selection import train_test_split\n",
    "from sklearn.linear_model import LassoCV\n",
    "import xgboost as xgb"
   ]
  },
  {
   "cell_type": "code",
   "execution_count": 2,
   "metadata": {},
   "outputs": [],
   "source": [
    "data = pd.read_csv('adult.csv')"
   ]
  },
  {
   "cell_type": "code",
   "execution_count": 3,
   "metadata": {},
   "outputs": [
    {
     "data": {
      "text/html": [
       "<div>\n",
       "<style scoped>\n",
       "    .dataframe tbody tr th:only-of-type {\n",
       "        vertical-align: middle;\n",
       "    }\n",
       "\n",
       "    .dataframe tbody tr th {\n",
       "        vertical-align: top;\n",
       "    }\n",
       "\n",
       "    .dataframe thead th {\n",
       "        text-align: right;\n",
       "    }\n",
       "</style>\n",
       "<table border=\"1\" class=\"dataframe\">\n",
       "  <thead>\n",
       "    <tr style=\"text-align: right;\">\n",
       "      <th></th>\n",
       "      <th>age</th>\n",
       "      <th>workclass</th>\n",
       "      <th>education</th>\n",
       "      <th>marital_status</th>\n",
       "      <th>employment</th>\n",
       "      <th>relationship</th>\n",
       "      <th>race</th>\n",
       "      <th>gender</th>\n",
       "      <th>workhours</th>\n",
       "      <th>income</th>\n",
       "    </tr>\n",
       "  </thead>\n",
       "  <tbody>\n",
       "    <tr>\n",
       "      <th>0</th>\n",
       "      <td>39</td>\n",
       "      <td>State-gov</td>\n",
       "      <td>Bachelors</td>\n",
       "      <td>Never-married</td>\n",
       "      <td>Adm-clerical</td>\n",
       "      <td>Not-in-family</td>\n",
       "      <td>White</td>\n",
       "      <td>Male</td>\n",
       "      <td>40</td>\n",
       "      <td>&lt;=50K</td>\n",
       "    </tr>\n",
       "    <tr>\n",
       "      <th>1</th>\n",
       "      <td>50</td>\n",
       "      <td>Self-emp-not-inc</td>\n",
       "      <td>Bachelors</td>\n",
       "      <td>Married-civ-spouse</td>\n",
       "      <td>Exec-managerial</td>\n",
       "      <td>Husband</td>\n",
       "      <td>White</td>\n",
       "      <td>Male</td>\n",
       "      <td>13</td>\n",
       "      <td>&lt;=50K</td>\n",
       "    </tr>\n",
       "    <tr>\n",
       "      <th>2</th>\n",
       "      <td>38</td>\n",
       "      <td>Private</td>\n",
       "      <td>HS-grad</td>\n",
       "      <td>Divorced</td>\n",
       "      <td>Handlers-cleaners</td>\n",
       "      <td>Not-in-family</td>\n",
       "      <td>White</td>\n",
       "      <td>Male</td>\n",
       "      <td>40</td>\n",
       "      <td>&lt;=50K</td>\n",
       "    </tr>\n",
       "    <tr>\n",
       "      <th>3</th>\n",
       "      <td>53</td>\n",
       "      <td>Private</td>\n",
       "      <td>11th</td>\n",
       "      <td>Married-civ-spouse</td>\n",
       "      <td>Handlers-cleaners</td>\n",
       "      <td>Husband</td>\n",
       "      <td>Black</td>\n",
       "      <td>Male</td>\n",
       "      <td>40</td>\n",
       "      <td>&lt;=50K</td>\n",
       "    </tr>\n",
       "    <tr>\n",
       "      <th>4</th>\n",
       "      <td>28</td>\n",
       "      <td>Private</td>\n",
       "      <td>Bachelors</td>\n",
       "      <td>Married-civ-spouse</td>\n",
       "      <td>Prof-specialty</td>\n",
       "      <td>Wife</td>\n",
       "      <td>Black</td>\n",
       "      <td>Female</td>\n",
       "      <td>40</td>\n",
       "      <td>&lt;=50K</td>\n",
       "    </tr>\n",
       "  </tbody>\n",
       "</table>\n",
       "</div>"
      ],
      "text/plain": [
       "   age          workclass   education       marital_status  \\\n",
       "0   39          State-gov   Bachelors        Never-married   \n",
       "1   50   Self-emp-not-inc   Bachelors   Married-civ-spouse   \n",
       "2   38            Private     HS-grad             Divorced   \n",
       "3   53            Private        11th   Married-civ-spouse   \n",
       "4   28            Private   Bachelors   Married-civ-spouse   \n",
       "\n",
       "           employment    relationship    race   gender  workhours  income  \n",
       "0        Adm-clerical   Not-in-family   White     Male         40   <=50K  \n",
       "1     Exec-managerial         Husband   White     Male         13   <=50K  \n",
       "2   Handlers-cleaners   Not-in-family   White     Male         40   <=50K  \n",
       "3   Handlers-cleaners         Husband   Black     Male         40   <=50K  \n",
       "4      Prof-specialty            Wife   Black   Female         40   <=50K  "
      ]
     },
     "execution_count": 3,
     "metadata": {},
     "output_type": "execute_result"
    }
   ],
   "source": [
    "data.head()"
   ]
  },
  {
   "cell_type": "code",
   "execution_count": 4,
   "metadata": {},
   "outputs": [],
   "source": [
    "data = data.drop(labels = ['employment', 'relationship'], axis = 1)\n",
    "\n",
    "data = data[(data.education != ' 11th') & (data.education != ' Assoc-voc') & (data.education != ' Assoc-acdm')\n",
    "           & (data.education != ' 7th-8th') & (data.education != ' Prof-school') & (data.education != ' 9th') \n",
    "           & (data.education != ' 5th-6th') & (data.education != ' 1st-4th') & (data.education != ' Preschool') \n",
    "           & (data.marital_status != ' Married-AF-spouse') & (data.workclass != ' ?') \n",
    "           & (data.workclass != ' Self-emp-not-inc') & (data.workclass != ' Self-emp-inc')].reset_index(drop = True)"
   ]
  },
  {
   "cell_type": "code",
   "execution_count": 5,
   "metadata": {},
   "outputs": [],
   "source": [
    "numerical_data = data.copy()\n",
    "\n",
    "lbl1 = LabelEncoder()\n",
    "numerical_data.gender = lbl1.fit_transform(numerical_data.gender)\n",
    "\n",
    "lbl2 = LabelEncoder()\n",
    "numerical_data.income = lbl2.fit_transform(numerical_data.income)\n",
    "\n",
    "lbl3 = LabelEncoder()\n",
    "numerical_data.marital_status = lbl3.fit_transform(numerical_data.marital_status)\n",
    "\n",
    "lbl4 = LabelEncoder()\n",
    "numerical_data.race = lbl4.fit_transform(numerical_data.race)\n",
    "\n",
    "lbl5 = LabelEncoder()\n",
    "numerical_data.workclass = lbl5.fit_transform(numerical_data.workclass)"
   ]
  },
  {
   "cell_type": "code",
   "execution_count": 6,
   "metadata": {},
   "outputs": [
    {
     "data": {
      "text/html": [
       "<div>\n",
       "<style scoped>\n",
       "    .dataframe tbody tr th:only-of-type {\n",
       "        vertical-align: middle;\n",
       "    }\n",
       "\n",
       "    .dataframe tbody tr th {\n",
       "        vertical-align: top;\n",
       "    }\n",
       "\n",
       "    .dataframe thead th {\n",
       "        text-align: right;\n",
       "    }\n",
       "</style>\n",
       "<table border=\"1\" class=\"dataframe\">\n",
       "  <thead>\n",
       "    <tr style=\"text-align: right;\">\n",
       "      <th></th>\n",
       "      <th>age</th>\n",
       "      <th>workclass</th>\n",
       "      <th>education</th>\n",
       "      <th>marital_status</th>\n",
       "      <th>race</th>\n",
       "      <th>gender</th>\n",
       "      <th>workhours</th>\n",
       "      <th>income</th>\n",
       "    </tr>\n",
       "  </thead>\n",
       "  <tbody>\n",
       "    <tr>\n",
       "      <th>0</th>\n",
       "      <td>39</td>\n",
       "      <td>4</td>\n",
       "      <td>Bachelors</td>\n",
       "      <td>3</td>\n",
       "      <td>4</td>\n",
       "      <td>1</td>\n",
       "      <td>40</td>\n",
       "      <td>0</td>\n",
       "    </tr>\n",
       "    <tr>\n",
       "      <th>1</th>\n",
       "      <td>38</td>\n",
       "      <td>3</td>\n",
       "      <td>HS-grad</td>\n",
       "      <td>0</td>\n",
       "      <td>4</td>\n",
       "      <td>1</td>\n",
       "      <td>40</td>\n",
       "      <td>0</td>\n",
       "    </tr>\n",
       "    <tr>\n",
       "      <th>2</th>\n",
       "      <td>28</td>\n",
       "      <td>3</td>\n",
       "      <td>Bachelors</td>\n",
       "      <td>1</td>\n",
       "      <td>2</td>\n",
       "      <td>0</td>\n",
       "      <td>40</td>\n",
       "      <td>0</td>\n",
       "    </tr>\n",
       "    <tr>\n",
       "      <th>3</th>\n",
       "      <td>37</td>\n",
       "      <td>3</td>\n",
       "      <td>Masters</td>\n",
       "      <td>1</td>\n",
       "      <td>4</td>\n",
       "      <td>0</td>\n",
       "      <td>40</td>\n",
       "      <td>0</td>\n",
       "    </tr>\n",
       "    <tr>\n",
       "      <th>4</th>\n",
       "      <td>31</td>\n",
       "      <td>3</td>\n",
       "      <td>Masters</td>\n",
       "      <td>3</td>\n",
       "      <td>4</td>\n",
       "      <td>0</td>\n",
       "      <td>50</td>\n",
       "      <td>1</td>\n",
       "    </tr>\n",
       "  </tbody>\n",
       "</table>\n",
       "</div>"
      ],
      "text/plain": [
       "   age  workclass   education  marital_status  race  gender  workhours  income\n",
       "0   39          4   Bachelors               3     4       1         40       0\n",
       "1   38          3     HS-grad               0     4       1         40       0\n",
       "2   28          3   Bachelors               1     2       0         40       0\n",
       "3   37          3     Masters               1     4       0         40       0\n",
       "4   31          3     Masters               3     4       0         50       1"
      ]
     },
     "execution_count": 6,
     "metadata": {},
     "output_type": "execute_result"
    }
   ],
   "source": [
    "numerical_data.head()"
   ]
  },
  {
   "cell_type": "code",
   "execution_count": 7,
   "metadata": {},
   "outputs": [],
   "source": [
    "numerical_data['age_group'] = pd.DataFrame({'age_group':pd.cut(numerical_data.age, 6)})\n",
    "numerical_data['workhours_group'] = pd.DataFrame({'workhours_group':pd.cut(numerical_data.workhours, 6)})\n",
    "\n",
    "numerical_data.education.replace([' 10th', ' 12th', ' HS-grad', ' Some-college', \n",
    "                                 ' Bachelors', ' Masters', ' Doctorate'], [1, 2, 3, 4, 5, 6, 7], inplace = True)\n",
    "numerical_data.workhours_group.replace([Interval(0.902, 17.333, closed = 'right'), Interval(17.333, 33.667, closed='right')\n",
    "                                  , Interval(33.667, 50.0, closed = 'right'), Interval(50.0, 66.333, closed = 'right'), \n",
    "                                 Interval(66.333, 82.667, closed = 'right'), Interval(82.667, 99.0, closed = 'right')]\n",
    "                                 , [1, 2, 3, 4, 5, 6], inplace = True)\n",
    "numerical_data.age_group.replace([Interval(16.927, 29.167, closed = 'right'), Interval(29.167, 41.333, closed='right')\n",
    "                                  , Interval(41.333, 53.5, closed = 'right'), Interval(53.5, 65.667, closed = 'right'), \n",
    "                                 Interval(65.667, 77.833, closed = 'right'), Interval(77.833, 90.0, closed = 'right')]\n",
    "                                 , [1, 2, 3, 4, 5, 6], inplace = True)"
   ]
  },
  {
   "cell_type": "code",
   "execution_count": 8,
   "metadata": {},
   "outputs": [],
   "source": [
    "kmeans = KMeans(n_clusters = 6, random_state = 1)\n",
    "clustering_model = kmeans.fit(numerical_data.drop(labels = ['age', 'workhours'], axis = 1))"
   ]
  },
  {
   "cell_type": "code",
   "execution_count": 9,
   "metadata": {},
   "outputs": [],
   "source": [
    "numerical_data['cluster'] = pd.DataFrame({'cluster':clustering_model.labels_})"
   ]
  },
  {
   "cell_type": "code",
   "execution_count": 10,
   "metadata": {},
   "outputs": [],
   "source": [
    "lift = []\n",
    "for i in range(len(numerical_data)):\n",
    "    if numerical_data.cluster[i] == 0:\n",
    "        lift.append(np.round(random.uniform(-.8, -.5), 2))\n",
    "    elif numerical_data.cluster[i] == 1:\n",
    "        lift.append(np.round(random.uniform(-.5, -.2), 2))\n",
    "    elif numerical_data.cluster[i] == 2:\n",
    "        lift.append(0)\n",
    "    elif numerical_data.cluster[i] == 3:\n",
    "        lift.append(np.round(random.uniform(.1, .4),2))\n",
    "    elif numerical_data.cluster[i] == 4:\n",
    "        lift.append(np.round(random.uniform(.4, .7),2))\n",
    "    else:\n",
    "        lift.append(np.round(random.uniform(.7, 1.2),2))"
   ]
  },
  {
   "cell_type": "code",
   "execution_count": 11,
   "metadata": {},
   "outputs": [],
   "source": [
    "numerical_data['lift'] = pd.DataFrame({'lift':lift})\n",
    "\n",
    "change = numerical_data.sample(2000).index\n",
    "numerical_data.loc[change,'lift'] = float(0)"
   ]
  },
  {
   "cell_type": "code",
   "execution_count": 12,
   "metadata": {},
   "outputs": [],
   "source": [
    "training = numerical_data.drop(labels = ['lift', 'workhours', 'age', 'cluster'], axis = 1)\n",
    "target = numerical_data['lift']"
   ]
  },
  {
   "cell_type": "code",
   "execution_count": 13,
   "metadata": {},
   "outputs": [],
   "source": [
    "xdata, xtest, ydata, ytest = train_test_split(training, target, test_size = 0.25, random_state = 1)\n",
    "xdata = xdata.reset_index(drop = True)\n",
    "xtest = xtest.reset_index(drop = True)\n",
    "ydata = ydata.reset_index(drop = True)\n",
    "ytest = ytest.reset_index(drop = True)"
   ]
  },
  {
   "cell_type": "code",
   "execution_count": 14,
   "metadata": {},
   "outputs": [],
   "source": [
    "xtrain, xval, ytrain, yval = train_test_split(xdata, ydata, test_size = 0.25, random_state = 1)\n",
    "xtrain = xtrain.reset_index(drop = True)\n",
    "xval = xval.reset_index(drop = True)\n",
    "ytrain = ytrain.reset_index(drop = True)\n",
    "yval = yval.reset_index(drop = True)"
   ]
  },
  {
   "cell_type": "code",
   "execution_count": 15,
   "metadata": {},
   "outputs": [
    {
     "name": "stdout",
     "output_type": "stream",
     "text": [
      "Processing time = 0.3141343593597412 seconds\n"
     ]
    }
   ],
   "source": [
    "trial1 = time.time()\n",
    "linear_model = LassoCV(eps=0.001, n_alphas=100, fit_intercept=True, precompute='auto', max_iter=1000 ,cv=2, n_jobs=-1, random_state=1, selection='cyclic')\n",
    "regress = linear_model.fit(xdata, ydata)\n",
    "print('Processing time =', time.time()-trial1, 'seconds')\n",
    "lasso_performance = regress.predict(xtest)"
   ]
  },
  {
   "cell_type": "code",
   "execution_count": 16,
   "metadata": {},
   "outputs": [
    {
     "name": "stdout",
     "output_type": "stream",
     "text": [
      "Error after lasso = 0.40929309524263024\n"
     ]
    }
   ],
   "source": [
    "print('Error after lasso =', (mean_squared_error(ytest, lasso_performance))**0.5)"
   ]
  },
  {
   "cell_type": "code",
   "execution_count": 17,
   "metadata": {},
   "outputs": [
    {
     "name": "stdout",
     "output_type": "stream",
     "text": [
      "Lasso reg. coefficients -> [-0.15589634 -0.12225956  0.07285923  0.13497024 -0.00891521 -0.15692454\n",
      " -0.16878794 -0.04355896]\n"
     ]
    }
   ],
   "source": [
    "print('Lasso reg. coefficients ->',regress.coef_)"
   ]
  },
  {
   "cell_type": "code",
   "execution_count": 18,
   "metadata": {},
   "outputs": [
    {
     "name": "stdout",
     "output_type": "stream",
     "text": [
      "[0]\ttrain-rmse:0.538713\teval-rmse:0.53662\n",
      "Multiple eval metrics have been passed: 'eval-rmse' will be used for early stopping.\n",
      "\n",
      "Will train until eval-rmse hasn't improved in 25 rounds.\n",
      "[10]\ttrain-rmse:0.305603\teval-rmse:0.303289\n",
      "[20]\ttrain-rmse:0.252905\teval-rmse:0.249963\n",
      "[30]\ttrain-rmse:0.238909\teval-rmse:0.235835\n",
      "[40]\ttrain-rmse:0.233503\teval-rmse:0.230428\n",
      "[50]\ttrain-rmse:0.230698\teval-rmse:0.227662\n",
      "[60]\ttrain-rmse:0.228954\teval-rmse:0.226118\n",
      "[70]\ttrain-rmse:0.227376\teval-rmse:0.2242\n",
      "[80]\ttrain-rmse:0.226643\teval-rmse:0.223562\n",
      "[90]\ttrain-rmse:0.225788\teval-rmse:0.222678\n",
      "[100]\ttrain-rmse:0.224973\teval-rmse:0.221818\n",
      "[110]\ttrain-rmse:0.224159\teval-rmse:0.220885\n",
      "[120]\ttrain-rmse:0.223478\teval-rmse:0.220421\n",
      "[130]\ttrain-rmse:0.222427\teval-rmse:0.219331\n",
      "[140]\ttrain-rmse:0.221705\teval-rmse:0.218759\n",
      "[150]\ttrain-rmse:0.221217\teval-rmse:0.218372\n",
      "[160]\ttrain-rmse:0.220706\teval-rmse:0.217921\n",
      "[170]\ttrain-rmse:0.220242\teval-rmse:0.21741\n",
      "[180]\ttrain-rmse:0.21988\teval-rmse:0.217111\n",
      "[190]\ttrain-rmse:0.219487\teval-rmse:0.216817\n",
      "[200]\ttrain-rmse:0.219029\teval-rmse:0.216366\n",
      "[210]\ttrain-rmse:0.218488\teval-rmse:0.215941\n",
      "[220]\ttrain-rmse:0.218113\teval-rmse:0.215627\n",
      "[230]\ttrain-rmse:0.217804\teval-rmse:0.215366\n",
      "[240]\ttrain-rmse:0.21744\teval-rmse:0.215205\n",
      "[250]\ttrain-rmse:0.217\teval-rmse:0.214783\n",
      "[260]\ttrain-rmse:0.216709\teval-rmse:0.214568\n",
      "[270]\ttrain-rmse:0.216381\teval-rmse:0.214339\n",
      "[280]\ttrain-rmse:0.216147\teval-rmse:0.214123\n",
      "[290]\ttrain-rmse:0.215955\teval-rmse:0.214007\n",
      "[300]\ttrain-rmse:0.215578\teval-rmse:0.213696\n",
      "[310]\ttrain-rmse:0.215258\teval-rmse:0.213556\n",
      "[320]\ttrain-rmse:0.215135\teval-rmse:0.213502\n",
      "[330]\ttrain-rmse:0.214982\teval-rmse:0.213539\n",
      "[340]\ttrain-rmse:0.214774\teval-rmse:0.213401\n",
      "[350]\ttrain-rmse:0.21459\teval-rmse:0.213303\n",
      "[360]\ttrain-rmse:0.214435\teval-rmse:0.213224\n",
      "[370]\ttrain-rmse:0.214224\teval-rmse:0.213115\n",
      "[380]\ttrain-rmse:0.214095\teval-rmse:0.213031\n",
      "[390]\ttrain-rmse:0.213859\teval-rmse:0.212789\n",
      "[400]\ttrain-rmse:0.213771\teval-rmse:0.212754\n",
      "[410]\ttrain-rmse:0.213616\teval-rmse:0.21269\n",
      "[420]\ttrain-rmse:0.213493\teval-rmse:0.21264\n",
      "[430]\ttrain-rmse:0.213353\teval-rmse:0.212648\n",
      "[440]\ttrain-rmse:0.213247\teval-rmse:0.21252\n",
      "[450]\ttrain-rmse:0.21306\teval-rmse:0.212423\n",
      "[460]\ttrain-rmse:0.212898\teval-rmse:0.212296\n",
      "[470]\ttrain-rmse:0.21277\teval-rmse:0.212271\n",
      "[480]\ttrain-rmse:0.212621\teval-rmse:0.212143\n",
      "[490]\ttrain-rmse:0.212498\teval-rmse:0.212173\n",
      "[500]\ttrain-rmse:0.212294\teval-rmse:0.211967\n",
      "[510]\ttrain-rmse:0.212228\teval-rmse:0.212024\n",
      "[520]\ttrain-rmse:0.212142\teval-rmse:0.211959\n",
      "[530]\ttrain-rmse:0.21205\teval-rmse:0.211996\n",
      "[540]\ttrain-rmse:0.211932\teval-rmse:0.212007\n",
      "Stopping. Best iteration:\n",
      "[519]\ttrain-rmse:0.212145\teval-rmse:0.211951\n",
      "\n",
      "Processing time = 10.376283645629883 seconds\n"
     ]
    }
   ],
   "source": [
    "trial2 = time.time()\n",
    "params = {\"objective\":\"reg:linear\",\n",
    "          \"booster\":\"gbtree\",\n",
    "          \"eta\":0.1,\n",
    "          \"max_depth\": 3,\n",
    "         \"subsample\":0.75,\n",
    "         \"silent\":0,\n",
    "         \"seed\":1,\n",
    "         \"lambda\":.25,\n",
    "         \"alpha\":.1}\n",
    "\n",
    "num_boost_round = 1000\n",
    "\n",
    "dtrain = xgb.DMatrix(xtrain, ytrain)\n",
    "dvalid = xgb.DMatrix(xval, yval)\n",
    "\n",
    "watchlist = [(dtrain, 'train'), (dvalid, 'eval')]\n",
    "\n",
    "booster = xgb.train(params, dtrain, num_boost_round, evals = watchlist, early_stopping_rounds = 25, verbose_eval=10)\n",
    "print('Processing time =', time.time()-trial2, 'seconds')\n",
    "performance = booster.predict(xgb.DMatrix(xtest))"
   ]
  },
  {
   "cell_type": "code",
   "execution_count": 19,
   "metadata": {},
   "outputs": [
    {
     "name": "stdout",
     "output_type": "stream",
     "text": [
      "Error on test set = 0.21267701712922954\n"
     ]
    }
   ],
   "source": [
    "print('Error on test set =', mean_squared_error(ytest, performance)**.5)"
   ]
  },
  {
   "cell_type": "code",
   "execution_count": 20,
   "metadata": {},
   "outputs": [],
   "source": [
    "test_pool = xdata.join(ydata)\n",
    "target_pool = xtest.join(pd.DataFrame(booster.predict(xgb.DMatrix(xtest)))).rename(columns = {0:'lift'})"
   ]
  },
  {
   "cell_type": "code",
   "execution_count": 21,
   "metadata": {},
   "outputs": [],
   "source": [
    "kmeans_specific = KMeans(n_clusters = 6, random_state = 1)\n",
    "clustering_specific = kmeans_specific.fit(test_pool)\n",
    "test_labels = clustering_specific.labels_\n",
    "target_labels = clustering_specific.predict(target_pool)\n",
    "test_pool['cluster'] = pd.DataFrame({'cluster':test_labels})\n",
    "target_pool['cluster'] = pd.DataFrame({'cluster':target_labels})"
   ]
  },
  {
   "cell_type": "code",
   "execution_count": 22,
   "metadata": {},
   "outputs": [],
   "source": [
    "test_pool.education.replace( [1, 2, 3, 4, 5, 6, 7],[' 10th', ' 12th', ' HS-grad', ' Some-college', \n",
    "                                 ' Bachelors', ' Masters', ' Doctorate'], inplace = True)\n",
    "test_pool.workhours_group.replace( [1, 2, 3, 4, 5, 6],[Interval(0.902, 17.333, closed = 'right'), Interval(17.333, 33.667, closed='right')\n",
    "                                  , Interval(33.667, 50.0, closed = 'right'), Interval(50.0, 66.333, closed = 'right'), \n",
    "                                 Interval(66.333, 82.667, closed = 'right'), Interval(82.667, 99.0, closed = 'right')]\n",
    "                                 , inplace = True)\n",
    "test_pool.age_group.replace([1, 2, 3, 4, 5, 6],[Interval(16.927, 29.167, closed = 'right'), Interval(29.167, 41.333, closed='right')\n",
    "                                  , Interval(41.333, 53.5, closed = 'right'), Interval(53.5, 65.667, closed = 'right'), \n",
    "                                 Interval(65.667, 77.833, closed = 'right'), Interval(77.833, 90.0, closed = 'right')]\n",
    "                                 ,  inplace = True)\n",
    "\n",
    "target_pool.education.replace( [1, 2, 3, 4, 5, 6, 7],[' 10th', ' 12th', ' HS-grad', ' Some-college', \n",
    "                                 ' Bachelors', ' Masters', ' Doctorate'], inplace = True)\n",
    "target_pool.workhours_group.replace( [1, 2, 3, 4, 5, 6],[Interval(0.902, 17.333, closed = 'right'), Interval(17.333, 33.667, closed='right')\n",
    "                                  , Interval(33.667, 50.0, closed = 'right'), Interval(50.0, 66.333, closed = 'right'), \n",
    "                                 Interval(66.333, 82.667, closed = 'right'), Interval(82.667, 99.0, closed = 'right')]\n",
    "                                 , inplace = True)\n",
    "target_pool.age_group.replace([1, 2, 3, 4, 5, 6],[Interval(16.927, 29.167, closed = 'right'), Interval(29.167, 41.333, closed='right')\n",
    "                                  , Interval(41.333, 53.5, closed = 'right'), Interval(53.5, 65.667, closed = 'right'), \n",
    "                                 Interval(65.667, 77.833, closed = 'right'), Interval(77.833, 90.0, closed = 'right')]\n",
    "                                 ,  inplace = True)"
   ]
  },
  {
   "cell_type": "code",
   "execution_count": 23,
   "metadata": {},
   "outputs": [
    {
     "name": "stderr",
     "output_type": "stream",
     "text": [
      "/home/fractaluser/anaconda3/lib/python3.6/site-packages/sklearn/preprocessing/label.py:151: DeprecationWarning: The truth value of an empty array is ambiguous. Returning False, but in future this will result in an error. Use `array.size > 0` to check that an array is not empty.\n",
      "  if diff:\n",
      "/home/fractaluser/anaconda3/lib/python3.6/site-packages/sklearn/preprocessing/label.py:151: DeprecationWarning: The truth value of an empty array is ambiguous. Returning False, but in future this will result in an error. Use `array.size > 0` to check that an array is not empty.\n",
      "  if diff:\n",
      "/home/fractaluser/anaconda3/lib/python3.6/site-packages/sklearn/preprocessing/label.py:151: DeprecationWarning: The truth value of an empty array is ambiguous. Returning False, but in future this will result in an error. Use `array.size > 0` to check that an array is not empty.\n",
      "  if diff:\n",
      "/home/fractaluser/anaconda3/lib/python3.6/site-packages/sklearn/preprocessing/label.py:151: DeprecationWarning: The truth value of an empty array is ambiguous. Returning False, but in future this will result in an error. Use `array.size > 0` to check that an array is not empty.\n",
      "  if diff:\n",
      "/home/fractaluser/anaconda3/lib/python3.6/site-packages/sklearn/preprocessing/label.py:151: DeprecationWarning: The truth value of an empty array is ambiguous. Returning False, but in future this will result in an error. Use `array.size > 0` to check that an array is not empty.\n",
      "  if diff:\n",
      "/home/fractaluser/anaconda3/lib/python3.6/site-packages/sklearn/preprocessing/label.py:151: DeprecationWarning: The truth value of an empty array is ambiguous. Returning False, but in future this will result in an error. Use `array.size > 0` to check that an array is not empty.\n",
      "  if diff:\n",
      "/home/fractaluser/anaconda3/lib/python3.6/site-packages/sklearn/preprocessing/label.py:151: DeprecationWarning: The truth value of an empty array is ambiguous. Returning False, but in future this will result in an error. Use `array.size > 0` to check that an array is not empty.\n",
      "  if diff:\n",
      "/home/fractaluser/anaconda3/lib/python3.6/site-packages/sklearn/preprocessing/label.py:151: DeprecationWarning: The truth value of an empty array is ambiguous. Returning False, but in future this will result in an error. Use `array.size > 0` to check that an array is not empty.\n",
      "  if diff:\n",
      "/home/fractaluser/anaconda3/lib/python3.6/site-packages/sklearn/preprocessing/label.py:151: DeprecationWarning: The truth value of an empty array is ambiguous. Returning False, but in future this will result in an error. Use `array.size > 0` to check that an array is not empty.\n",
      "  if diff:\n",
      "/home/fractaluser/anaconda3/lib/python3.6/site-packages/sklearn/preprocessing/label.py:151: DeprecationWarning: The truth value of an empty array is ambiguous. Returning False, but in future this will result in an error. Use `array.size > 0` to check that an array is not empty.\n",
      "  if diff:\n"
     ]
    }
   ],
   "source": [
    "test_pool.gender = lbl1.inverse_transform(test_pool.gender)\n",
    "test_pool.income = lbl2.inverse_transform(test_pool.income)\n",
    "test_pool.marital_status = lbl3.inverse_transform(test_pool.marital_status)\n",
    "test_pool.race = lbl4.inverse_transform(test_pool.race)\n",
    "test_pool.workclass = lbl5.inverse_transform(test_pool.workclass)\n",
    "\n",
    "target_pool.gender = lbl1.inverse_transform(target_pool.gender)\n",
    "target_pool.income = lbl2.inverse_transform(target_pool.income)\n",
    "target_pool.marital_status = lbl3.inverse_transform(target_pool.marital_status)\n",
    "target_pool.race = lbl4.inverse_transform(target_pool.race)\n",
    "target_pool.workclass = lbl5.inverse_transform(target_pool.workclass)"
   ]
  },
  {
   "cell_type": "code",
   "execution_count": 24,
   "metadata": {},
   "outputs": [
    {
     "name": "stderr",
     "output_type": "stream",
     "text": [
      "/home/fractaluser/anaconda3/lib/python3.6/site-packages/ipykernel_launcher.py:6: FutureWarning: 'argmax' is deprecated. Use 'idxmax' instead. The behavior of 'argmax' will be corrected to return the positional maximum in the future. Use 'series.values.argmax' to get the position of the maximum now.\n",
      "  \n",
      "/home/fractaluser/anaconda3/lib/python3.6/site-packages/ipykernel_launcher.py:7: FutureWarning: 'argmin' is deprecated. Use 'idxmin' instead. The behavior of 'argmin' will be corrected to return the positional minimum in the future. Use 'series.values.argmin' to get the position of the minimum now.\n",
      "  import sys\n"
     ]
    }
   ],
   "source": [
    "mean_lift = []\n",
    "for i in test_pool.cluster.unique():\n",
    "    mean_lift.append({\"avg_lift\":np.mean(test_pool[(test_pool.cluster == i)].lift), \"cluster\":i})\n",
    "mean_lift = pd.DataFrame(mean_lift)\n",
    "\n",
    "prime_driver_cluster = mean_lift.cluster[mean_lift.avg_lift.argmax()]\n",
    "prime_drainer_cluster = mean_lift.cluster[mean_lift.avg_lift.argmin()]"
   ]
  },
  {
   "cell_type": "code",
   "execution_count": 25,
   "metadata": {},
   "outputs": [
    {
     "data": {
      "image/png": "[encoded data removed]",
      "text/plain": [
       "<matplotlib.figure.Figure at 0x7f84e907b390>"
      ]
     },
     "metadata": {},
     "output_type": "display_data"
    }
   ],
   "source": [
    "xgb.plot_importance(booster, xlabel='Importance', ylabel='Features')\n",
    "plt.show()"
   ]
  },
  {
   "cell_type": "code",
   "execution_count": 26,
   "metadata": {},
   "outputs": [],
   "source": [
    "prime_driven = test_pool[(test_pool.cluster == prime_driver_cluster)].reset_index(drop = True).drop(labels = ['cluster'], axis = 1)\n",
    "prime_drained = test_pool[(test_pool.cluster == prime_drainer_cluster)].reset_index(drop = True).drop(labels = ['cluster'], axis = 1)"
   ]
  },
  {
   "cell_type": "code",
   "execution_count": 27,
   "metadata": {},
   "outputs": [],
   "source": [
    "good_features_for_driven = []\n",
    "overlapping_features_for_driven = []\n",
    "bad_features_for_driven = []\n",
    "\n",
    "for i in prime_driven.columns:\n",
    "    if (prime_driven[i].value_counts()/len(prime_driven)).values[0] >= 0.7:\n",
    "        good_features_for_driven.append(i)\n",
    "    elif (prime_driven.marital_status.value_counts()/len(prime_driven)).values[0] - (prime_driven.marital_status.value_counts()/len(prime_driven)).values[1] < 0.1 and (prime_driven.marital_status.value_counts()/len(prime_driven)).values[0] - (prime_driven.marital_status.value_counts()/len(prime_driven)).values[1] >= 0.7:\n",
    "        overlapping_features_for_driven.append(i)\n",
    "    else:\n",
    "        bad_features_for_driven.append(i)\n"
   ]
  },
  {
   "cell_type": "code",
   "execution_count": 28,
   "metadata": {},
   "outputs": [],
   "source": [
    "good_features_for_drained = []\n",
    "overlapping_features_for_drained = []\n",
    "bad_features_for_drained = []\n",
    "\n",
    "for i in prime_drained.columns:\n",
    "    if (prime_drained[i].value_counts()/len(prime_drained)).values[0] >= 0.7:\n",
    "        good_features_for_drained.append(i)\n",
    "    elif (prime_drained.marital_status.value_counts()/len(prime_drained)).values[0] - (prime_drained.marital_status.value_counts()/len(prime_drained)).values[1] < 0.1 and (prime_drained.marital_status.value_counts()/len(prime_drained)).values[0] - (prime_drained.marital_status.value_counts()/len(prime_drained)).values[1] >= 0.7:\n",
    "        overlapping_features_for_drained.append(i)\n",
    "    else:\n",
    "        bad_features_for_drained.append(i)\n"
   ]
  },
  {
   "cell_type": "code",
   "execution_count": 29,
   "metadata": {},
   "outputs": [],
   "source": [
    "prime_driver_group = []\n",
    "prime_drive = mean_lift.avg_lift.max()\n",
    "for i in good_features_for_driven:\n",
    "    prime_driver_group.append(prime_driven[i].value_counts().index[0])\n",
    "for j in overlapping_features_for_driven:\n",
    "    prime_driver.append([prime_driven[i].value_counts().index[0], prime_driven[i].value_counts().index[1]])"
   ]
  },
  {
   "cell_type": "code",
   "execution_count": 30,
   "metadata": {},
   "outputs": [
    {
     "name": "stdout",
     "output_type": "stream",
     "text": [
      "Combination of features driving the lift the most are -> [' Private', ' Never-married', ' White', ' <=50K', Interval(16.927, 29.167, closed='right')]\n",
      "Drive = 0.8612662483191393\n"
     ]
    }
   ],
   "source": [
    "print('Combination of features driving the lift the most are ->', prime_driver_group)\n",
    "print('Drive =', prime_drive)"
   ]
  },
  {
   "cell_type": "code",
   "execution_count": 31,
   "metadata": {},
   "outputs": [],
   "source": [
    "prime_drainer_group = []\n",
    "prime_drain = mean_lift.avg_lift.min()\n",
    "for i in good_features_for_drained:\n",
    "    prime_drainer_group.append(prime_drained[i].value_counts().index[0])\n",
    "for j in overlapping_features_for_drained:\n",
    "    prime_drained.append([prime_drained[i].value_counts().index[0], prime_drained[i].value_counts().index[1]])"
   ]
  },
  {
   "cell_type": "code",
   "execution_count": 32,
   "metadata": {},
   "outputs": [
    {
     "name": "stdout",
     "output_type": "stream",
     "text": [
      "Combination of features draining the lift the most are -> [' Private', ' Married-civ-spouse', ' White', ' Male', Interval(33.667, 50.0, closed='right')]\n",
      "Drain = -0.59654912836767\n"
     ]
    }
   ],
   "source": [
    "print('Combination of features draining the lift the most are ->', prime_drainer_group)\n",
    "print('Drain =', prime_drain)"
   ]
  },
  {
   "cell_type": "code",
   "execution_count": 33,
   "metadata": {},
   "outputs": [
    {
     "data": {
      "text/plain": [
       "['workclass', 'marital_status', 'race', 'income', 'age_group']"
      ]
     },
     "execution_count": 33,
     "metadata": {},
     "output_type": "execute_result"
    }
   ],
   "source": [
    "good_features_for_driven"
   ]
  },
  {
   "cell_type": "code",
   "execution_count": 34,
   "metadata": {},
   "outputs": [
    {
     "data": {
      "image/png": "[encoded data removed]",
      "text/plain": [
       "<matplotlib.figure.Figure at 0x7f84e0107550>"
      ]
     },
     "metadata": {},
     "output_type": "display_data"
    }
   ],
   "source": [
    "sns.factorplot(x=\"workclass\", y=\"lift\", hue=\"income\",\n",
    "               col=\"race\", data=prime_driven, kind=\"violin\", size = 7, aspect=1, split = True)\n",
    "plt.show()"
   ]
  },
  {
   "cell_type": "code",
   "execution_count": 35,
   "metadata": {},
   "outputs": [
    {
     "data": {
      "image/png": "[encoded data removed]",
      "text/plain": [
       "<matplotlib.figure.Figure at 0x7f84e00882b0>"
      ]
     },
     "metadata": {},
     "output_type": "display_data"
    }
   ],
   "source": [
    "sns.factorplot(x=\"marital_status\", y=\"lift\", hue=\"income\",\n",
    "               col=\"race\", data=prime_driven, kind=\"bar\", size = 7, aspect=1)\n",
    "plt.show()"
   ]
  },
  {
   "cell_type": "code",
   "execution_count": 36,
   "metadata": {},
   "outputs": [
    {
     "data": {
      "text/plain": [
       "['workclass', 'marital_status', 'race', 'gender', 'workhours_group']"
      ]
     },
     "execution_count": 36,
     "metadata": {},
     "output_type": "execute_result"
    }
   ],
   "source": [
    "good_features_for_drained"
   ]
  },
  {
   "cell_type": "code",
   "execution_count": 37,
   "metadata": {},
   "outputs": [
    {
     "data": {
      "image/png": "[encoded data removed]",
      "text/plain": [
       "<matplotlib.figure.Figure at 0x7f84da8ffe80>"
      ]
     },
     "metadata": {},
     "output_type": "display_data"
    }
   ],
   "source": [
    "sns.factorplot(x=\"workclass\", y=\"lift\", hue=\"gender\",\n",
    "               col=\"race\", data=prime_driven, kind=\"bar\", size = 7, aspect=1)\n",
    "plt.show()"
   ]
  },
  {
   "cell_type": "code",
   "execution_count": 38,
   "metadata": {},
   "outputs": [
    {
     "data": {
      "image/png": "[encoded data removed]",
      "text/plain": [
       "<matplotlib.figure.Figure at 0x7f84da87d240>"
      ]
     },
     "metadata": {},
     "output_type": "display_data"
    }
   ],
   "source": [
    "sns.factorplot(x=\"marital_status\", y=\"lift\", hue=\"gender\",\n",
    "               col=\"race\", data=prime_driven, kind=\"violin\", size = 7, aspect=1, split = True)\n",
    "plt.show()"
   ]
  },
  {
   "cell_type": "code",
   "execution_count": 39,
   "metadata": {},
   "outputs": [
    {
     "data": {
      "image/png": "[encoded data removed]",
      "text/plain": [
       "<matplotlib.figure.Figure at 0x7f84da86f4a8>"
      ]
     },
     "metadata": {},
     "output_type": "display_data"
    }
   ],
   "source": [
    "sns.factorplot(x=\"workhours_group\", y=\"lift\", hue=\"gender\",\n",
    "               col=\"race\", data=prime_driven, kind=\"bar\", size = 7, aspect=1.1)\n",
    "plt.show()"
   ]
  },
  {
   "cell_type": "code",
   "execution_count": 40,
   "metadata": {},
   "outputs": [],
   "source": [
    "order_of_rolling_out = target_pool.copy()\n",
    "order_of_rolling_out = order_of_rolling_out.sort_values(by='lift', ascending = False).reset_index(drop = True)"
   ]
  },
  {
   "cell_type": "code",
   "execution_count": 41,
   "metadata": {},
   "outputs": [
    {
     "data": {
      "text/html": [
       "<div>\n",
       "<style scoped>\n",
       "    .dataframe tbody tr th:only-of-type {\n",
       "        vertical-align: middle;\n",
       "    }\n",
       "\n",
       "    .dataframe tbody tr th {\n",
       "        vertical-align: top;\n",
       "    }\n",
       "\n",
       "    .dataframe thead th {\n",
       "        text-align: right;\n",
       "    }\n",
       "</style>\n",
       "<table border=\"1\" class=\"dataframe\">\n",
       "  <thead>\n",
       "    <tr style=\"text-align: right;\">\n",
       "      <th></th>\n",
       "      <th>workclass</th>\n",
       "      <th>education</th>\n",
       "      <th>marital_status</th>\n",
       "      <th>race</th>\n",
       "      <th>gender</th>\n",
       "      <th>income</th>\n",
       "      <th>age_group</th>\n",
       "      <th>workhours_group</th>\n",
       "      <th>lift</th>\n",
       "      <th>cluster</th>\n",
       "    </tr>\n",
       "  </thead>\n",
       "  <tbody>\n",
       "    <tr>\n",
       "      <th>0</th>\n",
       "      <td>Private</td>\n",
       "      <td>Masters</td>\n",
       "      <td>Separated</td>\n",
       "      <td>White</td>\n",
       "      <td>Female</td>\n",
       "      <td>&lt;=50K</td>\n",
       "      <td>(16.927, 29.167]</td>\n",
       "      <td>(33.667, 50.0]</td>\n",
       "      <td>1.133988</td>\n",
       "      <td>5</td>\n",
       "    </tr>\n",
       "    <tr>\n",
       "      <th>1</th>\n",
       "      <td>State-gov</td>\n",
       "      <td>Masters</td>\n",
       "      <td>Never-married</td>\n",
       "      <td>White</td>\n",
       "      <td>Male</td>\n",
       "      <td>&lt;=50K</td>\n",
       "      <td>(16.927, 29.167]</td>\n",
       "      <td>(0.902, 17.333]</td>\n",
       "      <td>1.031284</td>\n",
       "      <td>5</td>\n",
       "    </tr>\n",
       "    <tr>\n",
       "      <th>2</th>\n",
       "      <td>Never-worked</td>\n",
       "      <td>Some-college</td>\n",
       "      <td>Never-married</td>\n",
       "      <td>White</td>\n",
       "      <td>Male</td>\n",
       "      <td>&lt;=50K</td>\n",
       "      <td>(16.927, 29.167]</td>\n",
       "      <td>(0.902, 17.333]</td>\n",
       "      <td>0.994170</td>\n",
       "      <td>5</td>\n",
       "    </tr>\n",
       "    <tr>\n",
       "      <th>3</th>\n",
       "      <td>State-gov</td>\n",
       "      <td>Some-college</td>\n",
       "      <td>Separated</td>\n",
       "      <td>White</td>\n",
       "      <td>Male</td>\n",
       "      <td>&lt;=50K</td>\n",
       "      <td>(16.927, 29.167]</td>\n",
       "      <td>(33.667, 50.0]</td>\n",
       "      <td>0.984605</td>\n",
       "      <td>5</td>\n",
       "    </tr>\n",
       "    <tr>\n",
       "      <th>4</th>\n",
       "      <td>Private</td>\n",
       "      <td>Some-college</td>\n",
       "      <td>Separated</td>\n",
       "      <td>White</td>\n",
       "      <td>Male</td>\n",
       "      <td>&lt;=50K</td>\n",
       "      <td>(16.927, 29.167]</td>\n",
       "      <td>(50.0, 66.333]</td>\n",
       "      <td>0.977585</td>\n",
       "      <td>5</td>\n",
       "    </tr>\n",
       "  </tbody>\n",
       "</table>\n",
       "</div>"
      ],
      "text/plain": [
       "       workclass      education  marital_status    race   gender  income  \\\n",
       "0        Private        Masters       Separated   White   Female   <=50K   \n",
       "1      State-gov        Masters   Never-married   White     Male   <=50K   \n",
       "2   Never-worked   Some-college   Never-married   White     Male   <=50K   \n",
       "3      State-gov   Some-college       Separated   White     Male   <=50K   \n",
       "4        Private   Some-college       Separated   White     Male   <=50K   \n",
       "\n",
       "          age_group  workhours_group      lift  cluster  \n",
       "0  (16.927, 29.167]   (33.667, 50.0]  1.133988        5  \n",
       "1  (16.927, 29.167]  (0.902, 17.333]  1.031284        5  \n",
       "2  (16.927, 29.167]  (0.902, 17.333]  0.994170        5  \n",
       "3  (16.927, 29.167]   (33.667, 50.0]  0.984605        5  \n",
       "4  (16.927, 29.167]   (50.0, 66.333]  0.977585        5  "
      ]
     },
     "execution_count": 41,
     "metadata": {},
     "output_type": "execute_result"
    }
   ],
   "source": [
    "order_of_rolling_out.head()"
   ]
  },
  {
   "cell_type": "code",
   "execution_count": null,
   "metadata": {},
   "outputs": [],
   "source": []
  }
 ],
 "metadata": {
  "kernelspec": {
   "display_name": "Python 3",
   "language": "python",
   "name": "python3"
  },
  "language_info": {
   "codemirror_mode": {
    "name": "ipython",
    "version": 3
   },
   "file_extension": ".py",
   "mimetype": "text/x-python",
   "name": "python",
   "nbconvert_exporter": "python",
   "pygments_lexer": "ipython3",
   "version": "3.6.5"
  }
 },
 "nbformat": 4,
 "nbformat_minor": 2
}
